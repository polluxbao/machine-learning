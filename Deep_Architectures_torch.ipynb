{
  "nbformat": 4,
  "nbformat_minor": 0,
  "metadata": {
    "colab": {
      "name": "Deep Architectures.ipynb",
      "version": "0.3.2",
      "provenance": [],
      "collapsed_sections": [],
      "include_colab_link": true
    },
    "kernelspec": {
      "name": "python3",
      "display_name": "Python 3"
    }
  },
  "cells": [
    {
      "cell_type": "markdown",
      "metadata": {
        "id": "view-in-github",
        "colab_type": "text"
      },
      "source": [
        "<a href=\"https://colab.research.google.com/github/polluxbao/machine-learning/blob/master/Deep_Architectures_torch.ipynb\" target=\"_parent\"><img src=\"https://colab.research.google.com/assets/colab-badge.svg\" alt=\"Open In Colab\"/></a>"
      ]
    },
    {
      "cell_type": "code",
      "metadata": {
        "id": "f3YWYg936LPq",
        "colab_type": "code",
        "colab": {}
      },
      "source": [
        "import torch\n",
        "import torch.nn as nn\n",
        "import torch.nn.functional as F\n",
        "import numpy as np\n",
        "import matplotlib.pyplot as plt\n",
        "%matplotlib inline"
      ],
      "execution_count": 0,
      "outputs": []
    },
    {
      "cell_type": "code",
      "metadata": {
        "id": "B6ZrTfkk6cLR",
        "colab_type": "code",
        "colab": {}
      },
      "source": [
        "NUM_INPUTS=100\n",
        "HIDDEN_SIZE=1024\n",
        "NUM_OUTPUTS=20"
      ],
      "execution_count": 0,
      "outputs": []
    },
    {
      "cell_type": "markdown",
      "metadata": {
        "id": "OqD5-YhaMl-s",
        "colab_type": "text"
      },
      "source": [
        "### 1. Logistic Regresion"
      ]
    },
    {
      "cell_type": "code",
      "metadata": {
        "id": "NcwnkeQw6SAC",
        "colab_type": "code",
        "colab": {}
      },
      "source": [
        "lor = nn.Sequential(\n",
        "    nn.Linear(NUM_INPUTS, 1),\n",
        "    nn.Sigmoid()\n",
        ")"
      ],
      "execution_count": 0,
      "outputs": []
    },
    {
      "cell_type": "markdown",
      "metadata": {
        "id": "AqnLN0ruMto0",
        "colab_type": "text"
      },
      "source": [
        "### 2.Linear Regresion"
      ]
    },
    {
      "cell_type": "code",
      "metadata": {
        "id": "D0Bsumng65VV",
        "colab_type": "code",
        "colab": {}
      },
      "source": [
        "lir = nn.Sequential(\n",
        "    nn.Linear(NUM_INPUTS, 1)\n",
        ")"
      ],
      "execution_count": 0,
      "outputs": []
    },
    {
      "cell_type": "markdown",
      "metadata": {
        "id": "iWPTUONOMxp6",
        "colab_type": "text"
      },
      "source": [
        "### 3.  Softmax classifier"
      ]
    },
    {
      "cell_type": "code",
      "metadata": {
        "id": "QnaTs6dZ8BMe",
        "colab_type": "code",
        "colab": {}
      },
      "source": [
        "smx = nn.Sequential(\n",
        "    nn.Linear(NUM_INPUTS, NUM_OUTPUTS),\n",
        "    nn.LogSoftmax(dim=1)\n",
        ")"
      ],
      "execution_count": 0,
      "outputs": []
    },
    {
      "cell_type": "markdown",
      "metadata": {
        "id": "550SLZ4eM1pu",
        "colab_type": "text"
      },
      "source": [
        "### 4. MultiLayer Perceptron"
      ]
    },
    {
      "cell_type": "code",
      "metadata": {
        "id": "2lTm0pcd_UzE",
        "colab_type": "code",
        "colab": {}
      },
      "source": [
        "NUM_INPUTS=100\n",
        "HIDDEN_SIZE=1024\n",
        "NUM_OUTPUTS=20\n",
        "\n",
        "mlp = nn.Sequential(\n",
        "    nn.Linear(NUM_INPUTS, HIDDEN_SIZE),\n",
        "    nn.Tanh(),\n",
        "    nn.Linear(HIDDEN_SIZE, HIDDEN_SIZE),\n",
        "    nn.Tanh(),\n",
        "    nn.Linear(HIDDEN_SIZE, NUM_OUTPUTS),\n",
        "    nn.LogSoftmax(dim=1)\n",
        ")"
      ],
      "execution_count": 0,
      "outputs": []
    },
    {
      "cell_type": "markdown",
      "metadata": {
        "id": "hYHX1T_iM4IN",
        "colab_type": "text"
      },
      "source": [
        "### 5. Embedding with fully connected layer"
      ]
    },
    {
      "cell_type": "code",
      "metadata": {
        "id": "nFtBPGJ7Cc0j",
        "colab_type": "code",
        "colab": {}
      },
      "source": [
        "VOCAB_SIZE = 10000\n",
        "HIDDEN_SIZE=100\n",
        "# mapping a Vocabulary of size 10.000 to HIDDEN_SIZE projections\n",
        "emb_1 = nn.Linear(VOCAB_SIZE, HIDDEN_SIZE)"
      ],
      "execution_count": 0,
      "outputs": []
    },
    {
      "cell_type": "code",
      "metadata": {
        "id": "Cj_EhCFcFrYw",
        "colab_type": "code",
        "outputId": "78dc5033-1d22-49ac-a023-70daca1ba311",
        "colab": {
          "base_uri": "https://localhost:8080/",
          "height": 53
        }
      },
      "source": [
        "# forward example [10, 10000] tensor\n",
        "code = [1] + [0] * 9999\n",
        "# copy 10 times the same code [1 0 0 0 ... 0]\n",
        "x = torch.FloatTensor([code] * 10)\n",
        "print('Input x tensor size: ', x.size())\n",
        "y = emb_1(x)\n",
        "print('Output y embedding size: ', y.size())"
      ],
      "execution_count": 12,
      "outputs": [
        {
          "output_type": "stream",
          "text": [
            "Input x tensor size:  torch.Size([10, 10000])\n",
            "Output y embedding size:  torch.Size([10, 100])\n"
          ],
          "name": "stdout"
        }
      ]
    },
    {
      "cell_type": "markdown",
      "metadata": {
        "id": "XxmC8kTWM-wV",
        "colab_type": "text"
      },
      "source": [
        "### 6. Embedding with Embedding layer"
      ]
    },
    {
      "cell_type": "code",
      "metadata": {
        "id": "U8090BmHER9b",
        "colab_type": "code",
        "colab": {}
      },
      "source": [
        "VOCAB_SIZE = 10000\n",
        "HIDDEN_SIZE=100\n",
        "# mapping a Vocabulary of size 10.000 to HIDDEN_SIZE projections\n",
        "emb_2 = nn.Embedding(VOCAB_SIZE, HIDDEN_SIZE)"
      ],
      "execution_count": 0,
      "outputs": []
    },
    {
      "cell_type": "code",
      "metadata": {
        "id": "xIQmFOqUFCM_",
        "colab_type": "code",
        "outputId": "f135fc24-5468-487c-eed2-040283d15f97",
        "colab": {
          "base_uri": "https://localhost:8080/",
          "height": 53
        }
      },
      "source": [
        "# Just make a long tensor with zero-index\n",
        "x = torch.zeros(10, 1).long()\n",
        "print('Input x tensor size: ', x.size())\n",
        "y = emb_2(x)\n",
        "print('Output y embedding size: ', y.size())"
      ],
      "execution_count": 14,
      "outputs": [
        {
          "output_type": "stream",
          "text": [
            "Input x tensor size:  torch.Size([10, 1])\n",
            "Output y embedding size:  torch.Size([10, 1, 100])\n"
          ],
          "name": "stdout"
        }
      ]
    },
    {
      "cell_type": "markdown",
      "metadata": {
        "id": "8XyCuG_1NAj3",
        "colab_type": "text"
      },
      "source": [
        "### 7. Recurrent Neural Network"
      ]
    },
    {
      "cell_type": "code",
      "metadata": {
        "id": "Ir2jGezQFHzC",
        "colab_type": "code",
        "colab": {}
      },
      "source": [
        "NUM_INPUTS = 100\n",
        "HIDDEN_SIZE = 512\n",
        "NUM_LAYERS = 1\n",
        "# define a recurrent layer\n",
        "rnn = nn.RNN(NUM_INPUTS, HIDDEN_SIZE, num_layers=NUM_LAYERS)"
      ],
      "execution_count": 0,
      "outputs": []
    },
    {
      "cell_type": "code",
      "metadata": {
        "id": "QwrtfxJXVxpR",
        "colab_type": "code",
        "outputId": "28fda7e1-5a31-4863-fdd4-e566e874d89f",
        "colab": {
          "base_uri": "https://localhost:8080/",
          "height": 53
        }
      },
      "source": [
        "SEQ_LEN = 100\n",
        "x = torch.randn(SEQ_LEN, 1, NUM_INPUTS)\n",
        "print('Input tensor size [seq_len, bsize, hidden_size]: ', x.size())\n",
        "ht, state = rnn(x, None)\n",
        "print('Output tensor h[t] size [seq_len, bsize, hidden_size]: ', ht.size())"
      ],
      "execution_count": 16,
      "outputs": [
        {
          "output_type": "stream",
          "text": [
            "Input tensor size [seq_len, bsize, hidden_size]:  torch.Size([100, 1, 100])\n",
            "Output tensor h[t] size [seq_len, bsize, hidden_size]:  torch.Size([100, 1, 512])\n"
          ],
          "name": "stdout"
        }
      ]
    },
    {
      "cell_type": "code",
      "metadata": {
        "id": "eZxdVYlqWRcH",
        "colab_type": "code",
        "colab": {}
      },
      "source": [
        "NUM_INPUTS = 100\n",
        "HIDDEN_SIZE = 512\n",
        "NUM_LAYERS = 1\n",
        "# define a recurrent layer, swapping batch and time axis\n",
        "rnn = nn.RNN(NUM_INPUTS, HIDDEN_SIZE, num_layers=NUM_LAYERS,\n",
        "            batch_first=True)"
      ],
      "execution_count": 0,
      "outputs": []
    },
    {
      "cell_type": "code",
      "metadata": {
        "id": "gbiNHH0zWrr-",
        "colab_type": "code",
        "outputId": "129b2bda-6d28-40d0-d2ef-90d5c937faa0",
        "colab": {
          "base_uri": "https://localhost:8080/",
          "height": 53
        }
      },
      "source": [
        "SEQ_LEN = 100\n",
        "x = torch.randn(1, SEQ_LEN, NUM_INPUTS)\n",
        "print('Input tensor size [bsize, seq_len, hidden_size]: ', x.size())\n",
        "ht, state = rnn(x, None)\n",
        "print('Output tensor h[t] size [bsize, seq_len, hidden_size]: ', ht.size())"
      ],
      "execution_count": 18,
      "outputs": [
        {
          "output_type": "stream",
          "text": [
            "Input tensor size [bsize, seq_len, hidden_size]:  torch.Size([1, 100, 100])\n",
            "Output tensor h[t] size [bsize, seq_len, hidden_size]:  torch.Size([1, 100, 512])\n"
          ],
          "name": "stdout"
        }
      ]
    },
    {
      "cell_type": "code",
      "metadata": {
        "id": "7TZ0bj9wWw0Z",
        "colab_type": "code",
        "outputId": "dc0dcf18-16e0-4853-e513-10e3fd643fa3",
        "colab": {
          "base_uri": "https://localhost:8080/",
          "height": 53
        }
      },
      "source": [
        "# let's check ht and state sizes\n",
        "print('ht size: ', ht.size())\n",
        "print('state size: ', state.size())"
      ],
      "execution_count": 19,
      "outputs": [
        {
          "output_type": "stream",
          "text": [
            "ht size:  torch.Size([1, 100, 512])\n",
            "state size:  torch.Size([1, 1, 512])\n"
          ],
          "name": "stdout"
        }
      ]
    },
    {
      "cell_type": "code",
      "metadata": {
        "id": "95ioy0LAXMUN",
        "colab_type": "code",
        "outputId": "1b828c33-3a13-42e0-de98-ccfb66344156",
        "colab": {
          "base_uri": "https://localhost:8080/",
          "height": 71
        }
      },
      "source": [
        "NUM_INPUTS = 100\n",
        "NUM_OUTPUTS = 10\n",
        "HIDDEN_SIZE = 512\n",
        "SEQ_LEN = 100\n",
        "NUM_LAYERS = 1\n",
        "# define a recurrent layer, swapping batch and time axis and connect\n",
        "# an FC layer as an output layer to build a full network\n",
        "rnn = nn.RNN(NUM_INPUTS, HIDDEN_SIZE, num_layers=NUM_LAYERS,\n",
        "            batch_first=True)\n",
        "fc = nn.Sequential(\n",
        "    nn.Linear(HIDDEN_SIZE, NUM_OUTPUTS),\n",
        "    nn.LogSoftmax(dim=2)\n",
        ")\n",
        "\n",
        "x = torch.randn(1, SEQ_LEN, NUM_INPUTS)\n",
        "print('Input tensor size x: ', x.size())\n",
        "ht, state = rnn(x, None)\n",
        "print('Hidden tensor size ht: ', ht.size())\n",
        "y = fc(ht)\n",
        "print('Output tensor y size: ', y.size())\n"
      ],
      "execution_count": 20,
      "outputs": [
        {
          "output_type": "stream",
          "text": [
            "Input tensor size x:  torch.Size([1, 100, 100])\n",
            "Hidden tensor size ht:  torch.Size([1, 100, 512])\n",
            "Output tensor y size:  torch.Size([1, 100, 10])\n"
          ],
          "name": "stdout"
        }
      ]
    },
    {
      "cell_type": "markdown",
      "metadata": {
        "id": "shvFLclDNFDt",
        "colab_type": "text"
      },
      "source": [
        "### 8. LSTM Recurrent Neural Network"
      ]
    },
    {
      "cell_type": "code",
      "metadata": {
        "id": "DDzAWGL5ZEQ5",
        "colab_type": "code",
        "outputId": "996f7e99-77dc-49f0-8cde-3cabececdb09",
        "colab": {
          "base_uri": "https://localhost:8080/",
          "height": 89
        }
      },
      "source": [
        "lstm = nn.LSTM(NUM_INPUTS, HIDDEN_SIZE, num_layers=NUM_LAYERS,\n",
        "              batch_first=True)\n",
        "x = torch.randn(1, SEQ_LEN, NUM_INPUTS)\n",
        "print('Input tensor size x: ', x.size())\n",
        "ht, states = lstm(x, None)\n",
        "hT, cT = states[0], states[1]\n",
        "print('Output tensor ht size: ', ht.size())\n",
        "print('Last state h[T]: ', hT.size())\n",
        "print('Cell state c[T]: ', cT.size())"
      ],
      "execution_count": 21,
      "outputs": [
        {
          "output_type": "stream",
          "text": [
            "Input tensor size x:  torch.Size([1, 100, 100])\n",
            "Output tensor ht size:  torch.Size([1, 100, 512])\n",
            "Last state h[T]:  torch.Size([1, 1, 512])\n",
            "Cell state c[T]:  torch.Size([1, 1, 512])\n"
          ],
          "name": "stdout"
        }
      ]
    },
    {
      "cell_type": "markdown",
      "metadata": {
        "id": "-G8eHj4bNIt9",
        "colab_type": "text"
      },
      "source": [
        "### 9. Convolutional Neural Network"
      ]
    },
    {
      "cell_type": "code",
      "metadata": {
        "id": "hVv1Q-yvcvNj",
        "colab_type": "code",
        "colab": {}
      },
      "source": [
        "NUM_CHANNELS_IN = 1\n",
        "HIDDEN_SIZE = 1024\n",
        "KERNEL_WIDTH = 3\n",
        "# Build a one-dimensional convolutional neural layer\n",
        "conv1d = nn.Conv1d(NUM_CHANNELS_IN, HIDDEN_SIZE, KERNEL_WIDTH)"
      ],
      "execution_count": 0,
      "outputs": []
    },
    {
      "cell_type": "code",
      "metadata": {
        "id": "UNInGheJef65",
        "colab_type": "code",
        "outputId": "5a4e2e2b-8cc6-464e-bf46-bb473f857ba1",
        "colab": {
          "base_uri": "https://localhost:8080/",
          "height": 53
        }
      },
      "source": [
        "SEQ_LEN = 8\n",
        "x = torch.randn(1, NUM_CHANNELS_IN, SEQ_LEN)\n",
        "print('Input tensor size x: ', x.size())\n",
        "y = conv1d(x)\n",
        "print('Output tensor y size: ', y.size())"
      ],
      "execution_count": 23,
      "outputs": [
        {
          "output_type": "stream",
          "text": [
            "Input tensor size x:  torch.Size([1, 1, 8])\n",
            "Output tensor y size:  torch.Size([1, 1024, 6])\n"
          ],
          "name": "stdout"
        }
      ]
    },
    {
      "cell_type": "code",
      "metadata": {
        "id": "EmJ5o59BetZb",
        "colab_type": "code",
        "outputId": "c6d2a524-5ed6-4223-b2c7-9bde0ccb8498",
        "colab": {
          "base_uri": "https://localhost:8080/",
          "height": 53
        }
      },
      "source": [
        "NUM_CHANNELS_IN = 1\n",
        "HIDDEN_SIZE = 1024\n",
        "KERNEL_WIDTH = 3\n",
        "PADDING = KERNEL_WIDTH // 2 # = 1\n",
        "# Build a one-dimensional convolutional neural layer\n",
        "conv1d = nn.Conv1d(NUM_CHANNELS_IN, HIDDEN_SIZE, KERNEL_WIDTH, \n",
        "                   padding=PADDING)\n",
        "\n",
        "SEQ_LEN = 8\n",
        "x = torch.randn(1, NUM_CHANNELS_IN, SEQ_LEN)\n",
        "print('Input tensor size x: ', x.size())\n",
        "y = conv1d(x)\n",
        "print('Output tensor y size: ', y.size())"
      ],
      "execution_count": 24,
      "outputs": [
        {
          "output_type": "stream",
          "text": [
            "Input tensor size x:  torch.Size([1, 1, 8])\n",
            "Output tensor y size:  torch.Size([1, 1024, 8])\n"
          ],
          "name": "stdout"
        }
      ]
    },
    {
      "cell_type": "code",
      "metadata": {
        "id": "uZnAIecIfr3H",
        "colab_type": "code",
        "outputId": "5f17883e-f12a-4098-df7d-cb624b2fa6af",
        "colab": {
          "base_uri": "https://localhost:8080/",
          "height": 71
        }
      },
      "source": [
        "NUM_CHANNELS_IN = 1\n",
        "HIDDEN_SIZE = 1024\n",
        "KERNEL_WIDTH = 3\n",
        "# Build a one-dimensional convolutional neural layer\n",
        "conv1d = nn.Conv1d(NUM_CHANNELS_IN, HIDDEN_SIZE, KERNEL_WIDTH)\n",
        "                   \n",
        "SEQ_LEN = 8\n",
        "PADDING = KERNEL_WIDTH - 1 # = 2\n",
        "x = torch.randn(1, NUM_CHANNELS_IN, SEQ_LEN)\n",
        "print('Input tensor x size: ', x.size())\n",
        "xpad = F.pad(x, (PADDING, 0))\n",
        "print('Input tensor after padding xpad size: ', xpad.size())\n",
        "y = conv1d(xpad)\n",
        "print('Output tensor y size: ', y.size())"
      ],
      "execution_count": 25,
      "outputs": [
        {
          "output_type": "stream",
          "text": [
            "Input tensor x size:  torch.Size([1, 1, 8])\n",
            "Input tensor after padding xpad size:  torch.Size([1, 1, 10])\n",
            "Output tensor y size:  torch.Size([1, 1024, 8])\n"
          ],
          "name": "stdout"
        }
      ]
    },
    {
      "cell_type": "markdown",
      "metadata": {
        "id": "cz2NAKOTNOMV",
        "colab_type": "text"
      },
      "source": [
        "### 10. Convolutional Neural Network as an MLP"
      ]
    },
    {
      "cell_type": "code",
      "metadata": {
        "id": "QdAP5a4qgnLV",
        "colab_type": "code",
        "outputId": "a98c10f6-8c6a-4203-b3f7-949fd5b33b38",
        "colab": {
          "base_uri": "https://localhost:8080/",
          "height": 53
        }
      },
      "source": [
        "NUM_INPUTS = 100\n",
        "HIDDEN_SIZE = 1024\n",
        "NUM_OUTPUTS= 20\n",
        "# MLP as a CNN\n",
        "mlp = nn.Sequential(\n",
        "    nn.Conv1d(NUM_INPUTS, HIDDEN_SIZE, 1),\n",
        "    nn.Tanh(),\n",
        "    nn.Conv1d(HIDDEN_SIZE, HIDDEN_SIZE, 1),\n",
        "    nn.Tanh(),\n",
        "    nn.Conv1d(HIDDEN_SIZE, NUM_OUTPUTS, 1),\n",
        "    nn.LogSoftmax(dim=1)\n",
        ")\n",
        "\n",
        "x = torch.randn(1, 100, 1)\n",
        "print('Input tensor x size: ', x.size())\n",
        "y = mlp(x)\n",
        "print('Output tensor y size: ', y.size())"
      ],
      "execution_count": 26,
      "outputs": [
        {
          "output_type": "stream",
          "text": [
            "Input tensor x size:  torch.Size([1, 100, 1])\n",
            "Output tensor y size:  torch.Size([1, 20, 1])\n"
          ],
          "name": "stdout"
        }
      ]
    },
    {
      "cell_type": "markdown",
      "metadata": {
        "id": "31XMMrLzNQoV",
        "colab_type": "text"
      },
      "source": [
        "### 11. Deconvolutional Neural Network"
      ]
    },
    {
      "cell_type": "code",
      "metadata": {
        "id": "_yOUif_eiNhF",
        "colab_type": "code",
        "outputId": "88cfb698-fdcc-4be9-b9c3-d418ea267985",
        "colab": {
          "base_uri": "https://localhost:8080/",
          "height": 53
        }
      },
      "source": [
        "NUM_CHANNELS_IN = 1\n",
        "HIDDEN_SIZE = 1\n",
        "KERNEL_WIDTH = 8\n",
        "STRIDE = 4\n",
        "\n",
        "deconv = nn.ConvTranspose1d(NUM_CHANNELS_IN, HIDDEN_SIZE, KERNEL_WIDTH,\n",
        "                            stride=STRIDE)\n",
        "\n",
        "SEQ_LEN = 2\n",
        "y = torch.randn(1, NUM_CHANNELS_IN, SEQ_LEN)\n",
        "print('Input tensor y size: ', y.size())\n",
        "x = deconv(y)\n",
        "print('Output (interpolated) tensor x size: ', x.size())"
      ],
      "execution_count": 27,
      "outputs": [
        {
          "output_type": "stream",
          "text": [
            "Input tensor y size:  torch.Size([1, 1, 2])\n",
            "Output (interpolated) tensor x size:  torch.Size([1, 1, 12])\n"
          ],
          "name": "stdout"
        }
      ]
    },
    {
      "cell_type": "markdown",
      "metadata": {
        "id": "2KAdi7kwNbxt",
        "colab_type": "text"
      },
      "source": [
        "### 12. Quasi Recurrent Neural Network"
      ]
    },
    {
      "cell_type": "code",
      "metadata": {
        "id": "HlnG0POXlfTP",
        "colab_type": "code",
        "outputId": "2a8c2802-de14-4037-c4aa-06e209c2841c",
        "colab": {
          "base_uri": "https://localhost:8080/",
          "height": 53
        }
      },
      "source": [
        "class fQRNNLayer(nn.Module):\n",
        "  \n",
        "  def __init__(self, num_inputs, num_outputs,\n",
        "              kwidth=2):\n",
        "    super().__init__()\n",
        "    self.num_inputs = num_inputs\n",
        "    self.num_outputs = num_outputs\n",
        "    self.kwidth = kwidth\n",
        "    # double feature maps for zt and ft predictions with same conv layer\n",
        "    self.conv = nn.Conv1d(num_inputs, num_outputs * 2, kwidth)\n",
        "    \n",
        "  def forward(self, x, state=None):\n",
        "    # x is [bsz, seq_len, num_inputs]\n",
        "    # state is [bsz, num_outputs] dimensional\n",
        "    # ---------- FEED FORWARD PART\n",
        "    # inference convolutional part\n",
        "    # transpose x axis first to work with CNN layer\n",
        "    x = x.transpose(1, 2)\n",
        "    pad = self.kwidth - 1\n",
        "    xp = F.pad(x, (pad, 0))\n",
        "    conv_h = self.conv(xp)\n",
        "    # split convolutional layer feature maps into zt (new state\n",
        "    # candidate) and forget activation ft\n",
        "    zt, ft = torch.chunk(conv_h, 2, dim=1)\n",
        "    # Convert forget gate into actual forget\n",
        "    ft = torch.sigmoid(ft)\n",
        "    # Convert zt into actual non-linear response\n",
        "    zt = torch.tanh(zt)\n",
        "    # ---------- SEQUENTIAL PART\n",
        "    # iterate through time now to make pooling\n",
        "    seqlen = ft.size(2)\n",
        "    if state is None:\n",
        "      # create the zero state\n",
        "      ht_1 = torch.zeros(ft.size(0), self.num_outputs, 1)\n",
        "    else:\n",
        "      # add the dim=2 to match 3D tensor shape\n",
        "      ht_1 = state.unsqueeze(2)\n",
        "    zts = torch.chunk(zt, zt.size(2), dim=2)\n",
        "    fts = torch.chunk(ft, ft.size(2), dim=2)\n",
        "    hts = []\n",
        "    for t in range(seqlen):\n",
        "      ht = ht_1 * fts[t] + (1 - fts[t]) * zts[t]\n",
        "      # transpose time, channels dims again to match RNN-like shape\n",
        "      hts.append(ht.transpose(1, 2))\n",
        "      # re-assign h[t-1] now\n",
        "      ht_1 = ht\n",
        "    # convert hts list into a 3D tensor [bsz, seq_len, num_outputs]\n",
        "    hts = torch.cat(hts, dim=1)\n",
        "    return hts, ht_1.squeeze(2)\n",
        "      \n",
        "    \n",
        "      \n",
        "fqrnn = fQRNNLayer(1, 100, 2)\n",
        "x = torch.randn(1, 10, 1)\n",
        "ht, state = fqrnn(x)\n",
        "print('ht size: ', ht.size())\n",
        "print('state size: ', state.size())"
      ],
      "execution_count": 28,
      "outputs": [
        {
          "output_type": "stream",
          "text": [
            "ht size:  torch.Size([1, 10, 100])\n",
            "state size:  torch.Size([1, 100])\n"
          ],
          "name": "stdout"
        }
      ]
    },
    {
      "cell_type": "markdown",
      "metadata": {
        "id": "jyks-SaXNgTl",
        "colab_type": "text"
      },
      "source": [
        "### 13. AlexNet classifier"
      ]
    },
    {
      "cell_type": "code",
      "metadata": {
        "id": "kI18xwc2pjnk",
        "colab_type": "code",
        "colab": {}
      },
      "source": [
        "class AlexNet(nn.Module):\n",
        "\n",
        "    def __init__(self, num_classes=1000):\n",
        "        super(AlexNet, self).__init__()\n",
        "        self.features = nn.Sequential(\n",
        "            nn.Conv2d(3, 64, kernel_size=11, stride=4, padding=2),\n",
        "            nn.ReLU(inplace=True),\n",
        "            nn.MaxPool2d(kernel_size=3, stride=2),\n",
        "            nn.Conv2d(64, 192, kernel_size=5, padding=2),\n",
        "            nn.ReLU(inplace=True),\n",
        "            nn.MaxPool2d(kernel_size=3, stride=2),\n",
        "            nn.Conv2d(192, 384, kernel_size=3, padding=1),\n",
        "            nn.ReLU(inplace=True),\n",
        "            nn.Conv2d(384, 256, kernel_size=3, padding=1),\n",
        "            nn.ReLU(inplace=True),\n",
        "            nn.Conv2d(256, 256, kernel_size=3, padding=1),\n",
        "            nn.ReLU(inplace=True),\n",
        "            nn.MaxPool2d(kernel_size=3, stride=2),\n",
        "        )\n",
        "        self.avgpool = nn.AdaptiveAvgPool2d((6, 6))\n",
        "        self.classifier = nn.Sequential(\n",
        "            nn.Dropout(),\n",
        "            nn.Linear(256 * 6 * 6, 4096),\n",
        "            nn.ReLU(inplace=True),\n",
        "            nn.Dropout(),\n",
        "            nn.Linear(4096, 4096),\n",
        "            nn.ReLU(inplace=True),\n",
        "            nn.Linear(4096, num_classes),\n",
        "        )\n",
        "\n",
        "    def forward(self, x):\n",
        "        x = self.features(x)\n",
        "        x = self.avgpool(x)\n",
        "        x = x.view(x.size(0), 256 * 6 * 6)\n",
        "        x = self.classifier(x)\n",
        "        return x"
      ],
      "execution_count": 0,
      "outputs": []
    },
    {
      "cell_type": "code",
      "metadata": {
        "id": "sM8v8GrFvwmw",
        "colab_type": "code",
        "outputId": "6950cfef-0dc9-42cd-dea1-fc417c6b7de5",
        "colab": {
          "base_uri": "https://localhost:8080/",
          "height": 53
        }
      },
      "source": [
        "alexnet = AlexNet()\n",
        "x = torch.randn(1, 3, 224, 224)\n",
        "print('Input tensor x size: ', x.size())\n",
        "y = alexnet(x)\n",
        "print('Output tensor y size: ', y.size())\n"
      ],
      "execution_count": 30,
      "outputs": [
        {
          "output_type": "stream",
          "text": [
            "Input tensor x size:  torch.Size([1, 3, 224, 224])\n",
            "Output tensor y size:  torch.Size([1, 1000])\n"
          ],
          "name": "stdout"
        }
      ]
    },
    {
      "cell_type": "markdown",
      "metadata": {
        "id": "PlRjHUfSNkVH",
        "colab_type": "text"
      },
      "source": [
        "### 14. Residual connections"
      ]
    },
    {
      "cell_type": "code",
      "metadata": {
        "id": "5kGF6Ysqwiit",
        "colab_type": "code",
        "outputId": "31bb384c-0251-455e-c998-41d9fc012f7b",
        "colab": {
          "base_uri": "https://localhost:8080/",
          "height": 53
        }
      },
      "source": [
        "class ResLayer(nn.Module):\n",
        "  \n",
        "  def __init__(self, num_inputs):\n",
        "    super().__init__()\n",
        "    self.num_inputs = num_inputs\n",
        "    num_outputs = num_inputs\n",
        "    self.num_outputs = num_outputs\n",
        "    self.conv1 = nn.Sequential(\n",
        "        nn.Conv2d(num_inputs, num_outputs, 3, padding=1),\n",
        "        nn.BatchNorm2d(num_outputs),\n",
        "        nn.ReLU(inplace=True)\n",
        "    )\n",
        "    self.conv2 = nn.Sequential(\n",
        "        nn.Conv2d(num_outputs, num_outputs, 3, padding=1),\n",
        "        nn.BatchNorm2d(num_outputs),\n",
        "        nn.ReLU(inplace=True)\n",
        "    )\n",
        "    self.out_relu = nn.ReLU(inplace=True)\n",
        "    \n",
        "  def forward(self, x):\n",
        "    # non-linear processing trunk\n",
        "    conv1_h = self.conv1(x)\n",
        "    conv2_h = self.conv2(conv1_h)\n",
        "    # output is result of res connection + non-linear processing\n",
        "    y = self.out_relu(x + conv2_h)\n",
        "    return y\n",
        "    \n",
        "x = torch.randn(1, 64, 100, 100)\n",
        "print('Input tensor x size: ', x.size())\n",
        "reslayer = ResLayer(64)\n",
        "y = reslayer(x)\n",
        "print('Output tensor y size: ', y.size())"
      ],
      "execution_count": 31,
      "outputs": [
        {
          "output_type": "stream",
          "text": [
            "Input tensor x size:  torch.Size([1, 64, 100, 100])\n",
            "Output tensor y size:  torch.Size([1, 64, 100, 100])\n"
          ],
          "name": "stdout"
        }
      ]
    },
    {
      "cell_type": "markdown",
      "metadata": {
        "id": "__E0NQb9N2lW",
        "colab_type": "text"
      },
      "source": [
        "### 15. Auto-Encoder Network"
      ]
    },
    {
      "cell_type": "code",
      "metadata": {
        "id": "eF7gYhpNz3Q8",
        "colab_type": "code",
        "outputId": "ee0663fc-7df6-4ec4-8b63-a584298eab44",
        "colab": {
          "base_uri": "https://localhost:8080/",
          "height": 53
        }
      },
      "source": [
        "class AE(nn.Module):\n",
        "    def __init__(self, num_inputs=784):\n",
        "        super().__init__()\n",
        "        self.encoder = nn.Sequential(\n",
        "            nn.Linear(num_inputs, 400),\n",
        "            nn.ReLU(inplace=True),\n",
        "            nn.Linear(400, 400),\n",
        "            nn.ReLU(inplace=True),\n",
        "            nn.Linear(400, 20)\n",
        "        )\n",
        "        self.decoder = nn.Sequential(\n",
        "            nn.Linear(20, 400),\n",
        "            nn.ReLU(inplace=True),\n",
        "            nn.Linear(400, 400),\n",
        "            nn.ReLU(inplace=True),\n",
        "            nn.Linear(400, num_inputs)\n",
        "        )\n",
        "\n",
        "    def forward(self, x):\n",
        "        return self.decoder(self.encoder(x))\n",
        "\n",
        "      \n",
        "ae = AE(784)\n",
        "x = torch.randn(10, 784)\n",
        "print('Input tensor x size: ', x.size())\n",
        "y = ae(x)\n",
        "print('Output tensor y size: ', y.size())"
      ],
      "execution_count": 32,
      "outputs": [
        {
          "output_type": "stream",
          "text": [
            "Input tensor x size:  torch.Size([10, 784])\n",
            "Output tensor y size:  torch.Size([10, 784])\n"
          ],
          "name": "stdout"
        }
      ]
    },
    {
      "cell_type": "markdown",
      "metadata": {
        "id": "anEbOUKTN-1H",
        "colab_type": "text"
      },
      "source": [
        "### 16. Variational Auto-Encoder Network"
      ]
    },
    {
      "cell_type": "code",
      "metadata": {
        "id": "drIFisw02OqR",
        "colab_type": "code",
        "outputId": "e53edf4b-ddfe-409e-f224-939dc86fd318",
        "colab": {
          "base_uri": "https://localhost:8080/",
          "height": 89
        }
      },
      "source": [
        "# from https://github.com/pytorch/examples/blob/master/vae/main.py\n",
        "class VAE(nn.Module):\n",
        "    def __init__(self):\n",
        "        super(VAE, self).__init__()\n",
        "\n",
        "        self.fc1 = nn.Linear(784, 400)\n",
        "        self.fc21 = nn.Linear(400, 20)\n",
        "        self.fc22 = nn.Linear(400, 20)\n",
        "        self.fc3 = nn.Linear(20, 400)\n",
        "        self.fc4 = nn.Linear(400, 784)\n",
        "\n",
        "    def encode(self, x):\n",
        "        h1 = F.relu(self.fc1(x))\n",
        "        return self.fc21(h1), self.fc22(h1)\n",
        "\n",
        "    def reparameterize(self, mu, logvar):\n",
        "        std = torch.exp(0.5*logvar)\n",
        "        eps = torch.randn_like(std)\n",
        "        return mu + eps*std\n",
        "\n",
        "    def decode(self, z):\n",
        "        h3 = F.relu(self.fc3(z))\n",
        "        return torch.sigmoid(self.fc4(h3))\n",
        "\n",
        "    def forward(self, x):\n",
        "        mu, logvar = self.encode(x.view(-1, 784))\n",
        "        z = self.reparameterize(mu, logvar)\n",
        "        return self.decode(z), mu, logvar\n",
        "\n",
        "vae = VAE()\n",
        "x = torch.randn(10, 784)\n",
        "print('Input tensor x size: ', x.size())\n",
        "y, mu, logvar = vae(x)\n",
        "print('Input tensor y size: ', y.size())\n",
        "print('Mean tensor mu size: ', mu.size())\n",
        "print('Covariance tensor logvar size: ', logvar.size())"
      ],
      "execution_count": 33,
      "outputs": [
        {
          "output_type": "stream",
          "text": [
            "Input tensor x size:  torch.Size([10, 784])\n",
            "Input tensor y size:  torch.Size([10, 784])\n",
            "Mean tensor mu size:  torch.Size([10, 20])\n",
            "Covariance tensor logvar size:  torch.Size([10, 20])\n"
          ],
          "name": "stdout"
        }
      ]
    },
    {
      "cell_type": "markdown",
      "metadata": {
        "id": "pxGOvdLVOBKk",
        "colab_type": "text"
      },
      "source": [
        "### 17. Deep Convolutional Auto-Encoder with skip connections (SEGAN G)"
      ]
    },
    {
      "cell_type": "code",
      "metadata": {
        "id": "rnHMfxwKA65l",
        "colab_type": "code",
        "outputId": "5144d9e8-627b-48ed-cc72-b8c112ef5d53",
        "colab": {
          "base_uri": "https://localhost:8080/",
          "height": 53
        }
      },
      "source": [
        "class DownConv1dBlock(nn.Module):\n",
        "  \n",
        "  def __init__(self, ninp, fmap, kwidth, stride):\n",
        "    super().__init__()\n",
        "    assert stride > 1, stride\n",
        "    self.kwidth = kwidth\n",
        "    self.conv = nn.Conv1d(ninp, fmap, kwidth, stride=stride)\n",
        "    self.act = nn.ReLU(inplace=True)\n",
        "  \n",
        "  def forward(self, x):\n",
        "    # calculate padding with stride > 1\n",
        "    pad_left = self.kwidth // 2 - 1\n",
        "    pad_right = self.kwidth // 2\n",
        "    xp = F.pad(x, (pad_left, pad_right))\n",
        "    y = self.act(self.conv(xp))\n",
        "    return y\n",
        "\n",
        "block = DownConv1dBlock(1, 1, 31, 4)\n",
        "x = torch.randn(1, 1, 4000)\n",
        "print('Input tensor x size: ', x.size())\n",
        "y = block(x)\n",
        "print('Output tensor y size: ', y.size())"
      ],
      "execution_count": 34,
      "outputs": [
        {
          "output_type": "stream",
          "text": [
            "Input tensor x size:  torch.Size([1, 1, 4000])\n",
            "Output tensor y size:  torch.Size([1, 1, 1000])\n"
          ],
          "name": "stdout"
        }
      ]
    },
    {
      "cell_type": "code",
      "metadata": {
        "id": "aJHX1W_VA7v0",
        "colab_type": "code",
        "outputId": "7a1074a9-7320-4e42-a2c9-a748a3a7c137",
        "colab": {
          "base_uri": "https://localhost:8080/",
          "height": 53
        }
      },
      "source": [
        "class UpConv1dBlock(nn.Module):\n",
        "  \n",
        "  def __init__(self, ninp, fmap, kwidth, stride, act=True):\n",
        "    super().__init__()\n",
        "    assert stride > 1, stride\n",
        "    self.kwidth = kwidth\n",
        "    pad = max(0, (stride - kwidth) // -2)\n",
        "    self.deconv = nn.ConvTranspose1d(ninp, fmap, kwidth,\n",
        "                                    stride=stride,\n",
        "                                    padding=pad)\n",
        "    if act:\n",
        "      self.act = nn.ReLU(inplace=True)\n",
        "  \n",
        "  def forward(self, x):\n",
        "    h = self.deconv(x)\n",
        "    if self.kwidth % 2 != 0:\n",
        "      # drop last item for shape compatibility with TensorFlow deconvs\n",
        "      h = h[:, :, :-1]\n",
        "    if hasattr(self, 'act'):\n",
        "      y = self.act(h)\n",
        "    else:\n",
        "      y = h\n",
        "    return y\n",
        "\n",
        "block = UpConv1dBlock(1, 1, 31, 4)\n",
        "x = torch.randn(1, 1, 1000)\n",
        "print('Input tensor x size: ', x.size())\n",
        "y = block(x)\n",
        "print('Output tensor y size: ', y.size())"
      ],
      "execution_count": 35,
      "outputs": [
        {
          "output_type": "stream",
          "text": [
            "Input tensor x size:  torch.Size([1, 1, 1000])\n",
            "Output tensor y size:  torch.Size([1, 1, 4000])\n"
          ],
          "name": "stdout"
        }
      ]
    },
    {
      "cell_type": "code",
      "metadata": {
        "id": "rYw0SPRd3GRs",
        "colab_type": "code",
        "outputId": "850301a0-853c-4429-fba0-acc148f4d994",
        "colab": {
          "base_uri": "https://localhost:8080/",
          "height": 53
        }
      },
      "source": [
        "class Conv1dGenerator(nn.Module):\n",
        "  \n",
        "  def __init__(self, enc_fmaps=[64, 128, 256, 512], kwidth=31,\n",
        "               pooling=4):\n",
        "    super().__init__()\n",
        "    self.enc = nn.ModuleList()\n",
        "    ninp = 1\n",
        "    for enc_fmap in enc_fmaps:\n",
        "      self.enc.append(DownConv1dBlock(ninp, enc_fmap, kwidth, pooling))\n",
        "      ninp = enc_fmap\n",
        "    \n",
        "    self.dec = nn.ModuleList()\n",
        "    # revert encoder feature maps\n",
        "    dec_fmaps = enc_fmaps[::-1][1:] + [1]\n",
        "    act = True\n",
        "    for di, dec_fmap in enumerate(dec_fmaps, start=1):\n",
        "      if di >= len(dec_fmaps):\n",
        "        # last decoder layer has no activation\n",
        "        act = False\n",
        "      self.dec.append(UpConv1dBlock(ninp, dec_fmap, kwidth, pooling, act=act))\n",
        "      ninp = dec_fmap\n",
        "  \n",
        "  def forward(self, x):\n",
        "    skips = []\n",
        "    h = x\n",
        "    for ei, enc_layer in enumerate(self.enc, start=1):\n",
        "      h = enc_layer(h)\n",
        "      if ei < len(self.enc):\n",
        "        skips.append(h)\n",
        "    # now decode\n",
        "    \n",
        "    for di, dec_layer in enumerate(self.dec, start=1):\n",
        "      if di > 1:\n",
        "        # sum skip connection\n",
        "        skip_h = skips.pop(-1)\n",
        "        h = h + skip_h\n",
        "      h = dec_layer(h)\n",
        "    y = h\n",
        "    return y\n",
        "      \n",
        "G = Conv1dGenerator()\n",
        "x = torch.randn(1, 1, 8192)\n",
        "print('Input tensor x size: ', x.size())\n",
        "y = G(x)\n",
        "print('Output tensor y size: ', y.size())"
      ],
      "execution_count": 36,
      "outputs": [
        {
          "output_type": "stream",
          "text": [
            "Input tensor x size:  torch.Size([1, 1, 8192])\n",
            "Output tensor y size:  torch.Size([1, 1, 8192])\n"
          ],
          "name": "stdout"
        }
      ]
    },
    {
      "cell_type": "markdown",
      "metadata": {
        "id": "R0yipK1wOKIE",
        "colab_type": "text"
      },
      "source": [
        "### 18. DCGAN G and D"
      ]
    },
    {
      "cell_type": "code",
      "metadata": {
        "id": "dbXceSoO6g3l",
        "colab_type": "code",
        "outputId": "41142a8a-e776-4a87-b67b-1231a9a86e3a",
        "colab": {
          "base_uri": "https://localhost:8080/",
          "height": 53
        }
      },
      "source": [
        "# from https://github.com/pytorch/examples/blob/master/dcgan/main.py\n",
        "class Generator(nn.Module):\n",
        "    def __init__(self, nc=3):\n",
        "        super().__init__()\n",
        "        nz = 100\n",
        "        ngf = 64\n",
        "        self.main = nn.Sequential(\n",
        "            # input is Z, going into a convolution\n",
        "            nn.ConvTranspose2d(nz, ngf * 8, 4, 1, 0, bias=False),\n",
        "            nn.BatchNorm2d(ngf * 8),\n",
        "            nn.ReLU(True),\n",
        "            # state size. (ngf*8) x 4 x 4\n",
        "            nn.ConvTranspose2d(ngf * 8, ngf * 4, 4, 2, 1, bias=False),\n",
        "            nn.BatchNorm2d(ngf * 4),\n",
        "            nn.ReLU(True),\n",
        "            # state size. (ngf*4) x 8 x 8\n",
        "            nn.ConvTranspose2d(ngf * 4, ngf * 2, 4, 2, 1, bias=False),\n",
        "            nn.BatchNorm2d(ngf * 2),\n",
        "            nn.ReLU(True),\n",
        "            # state size. (ngf*2) x 16 x 16\n",
        "            nn.ConvTranspose2d(ngf * 2,     ngf, 4, 2, 1, bias=False),\n",
        "            nn.BatchNorm2d(ngf),\n",
        "            nn.ReLU(True),\n",
        "            # state size. (ngf) x 32 x 32\n",
        "            nn.ConvTranspose2d(    ngf,      nc, 4, 2, 1, bias=False),\n",
        "            nn.Tanh()\n",
        "            # state size. (nc) x 64 x 64\n",
        "        )\n",
        "\n",
        "    def forward(self, input):\n",
        "      return self.main(input)\n",
        "\n",
        "z = torch.randn(1, 100, 1, 1)\n",
        "print('Input tensor z size: ', z.size())\n",
        "G = Generator()\n",
        "x = G(z)\n",
        "print('Output tensor x size: ', x.size())"
      ],
      "execution_count": 37,
      "outputs": [
        {
          "output_type": "stream",
          "text": [
            "Input tensor z size:  torch.Size([1, 100, 1, 1])\n",
            "Output tensor x size:  torch.Size([1, 3, 64, 64])\n"
          ],
          "name": "stdout"
        }
      ]
    },
    {
      "cell_type": "code",
      "metadata": {
        "id": "7xuh9ww3Inea",
        "colab_type": "code",
        "outputId": "ae797b3b-b580-4822-f2f0-a607435854d4",
        "colab": {
          "base_uri": "https://localhost:8080/",
          "height": 53
        }
      },
      "source": [
        "class Discriminator(nn.Module):\n",
        "    def __init__(self, nc=3):\n",
        "        super(Discriminator, self).__init__()\n",
        "        ndf = 64\n",
        "        self.main = nn.Sequential(\n",
        "            # input is (nc) x 64 x 64\n",
        "            nn.Conv2d(nc, ndf, 4, 2, 1, bias=False),\n",
        "            nn.LeakyReLU(0.2, inplace=True),\n",
        "            # state size. (ndf) x 32 x 32\n",
        "            nn.Conv2d(ndf, ndf * 2, 4, 2, 1, bias=False),\n",
        "            nn.BatchNorm2d(ndf * 2),\n",
        "            nn.LeakyReLU(0.2, inplace=True),\n",
        "            # state size. (ndf*2) x 16 x 16\n",
        "            nn.Conv2d(ndf * 2, ndf * 4, 4, 2, 1, bias=False),\n",
        "            nn.BatchNorm2d(ndf * 4),\n",
        "            nn.LeakyReLU(0.2, inplace=True),\n",
        "            # state size. (ndf*4) x 8 x 8\n",
        "            nn.Conv2d(ndf * 4, ndf * 8, 4, 2, 1, bias=False),\n",
        "            nn.BatchNorm2d(ndf * 8),\n",
        "            nn.LeakyReLU(0.2, inplace=True),\n",
        "            # state size. (ndf*8) x 4 x 4\n",
        "            nn.Conv2d(ndf * 8, 1, 4, 1, 0, bias=False),\n",
        "            nn.Sigmoid()\n",
        "        )\n",
        "\n",
        "    def forward(self, input):\n",
        "        return self.main(input)\n",
        "      \n",
        "      \n",
        "x = torch.randn(1, 3, 64, 64)\n",
        "print('Input tensor x size: ', x.size())\n",
        "D = Discriminator()\n",
        "y = D(x)\n",
        "print('Output tensor y size: ', y.size())"
      ],
      "execution_count": 38,
      "outputs": [
        {
          "output_type": "stream",
          "text": [
            "Input tensor x size:  torch.Size([1, 3, 64, 64])\n",
            "Output tensor y size:  torch.Size([1, 1, 1, 1])\n"
          ],
          "name": "stdout"
        }
      ]
    },
    {
      "cell_type": "code",
      "metadata": {
        "id": "0IsQDwR5J1Ey",
        "colab_type": "code",
        "colab": {}
      },
      "source": [
        ""
      ],
      "execution_count": 0,
      "outputs": []
    }
  ]
}